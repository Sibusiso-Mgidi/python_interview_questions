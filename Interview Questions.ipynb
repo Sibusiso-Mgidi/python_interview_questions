{
 "cells": [
  {
   "cell_type": "markdown",
   "metadata": {},
   "source": [
    "### 1. Check is the list consists of an interger x"
   ]
  },
  {
   "cell_type": "code",
   "execution_count": 1,
   "metadata": {},
   "outputs": [
    {
     "name": "stdout",
     "output_type": "stream",
     "text": [
      "True\n"
     ]
    }
   ],
   "source": [
    "my_list = [3,5,9,8,7,1,2,4,6,3,8,9,4,5,21,3,6,4,7,85]\n",
    "print(5 in my_list)"
   ]
  },
  {
   "cell_type": "markdown",
   "metadata": {},
   "source": [
    "### 2. Find duplicates numbers in the integer list"
   ]
  },
  {
   "cell_type": "code",
   "execution_count": 3,
   "metadata": {},
   "outputs": [
    {
     "data": {
      "text/plain": [
       "[3, 4, 5, 6, 7, 8, 9]"
      ]
     },
     "execution_count": 3,
     "metadata": {},
     "output_type": "execute_result"
    }
   ],
   "source": [
    "def find_duplicates(values):\n",
    "    \"\"\"Returns duplicates\n",
    "    \n",
    "    Arguments:\n",
    "        values {integers} -- list\n",
    "    Returns:\n",
    "        list {integers} -- duplicates\n",
    "    \"\"\"\n",
    "    duplicates, seen = set(), set()\n",
    "    for value in values:\n",
    "        if value in seen:\n",
    "            duplicates.add(value)\n",
    "        seen.add(value)\n",
    "    return list(duplicates)\n",
    "find_duplicates(my_list)"
   ]
  }
 ],
 "metadata": {
  "kernelspec": {
   "display_name": "Python 3",
   "language": "python",
   "name": "python3"
  },
  "language_info": {
   "codemirror_mode": {
    "name": "ipython",
    "version": 3
   },
   "file_extension": ".py",
   "mimetype": "text/x-python",
   "name": "python",
   "nbconvert_exporter": "python",
   "pygments_lexer": "ipython3",
   "version": "3.6.12"
  }
 },
 "nbformat": 4,
 "nbformat_minor": 4
}
